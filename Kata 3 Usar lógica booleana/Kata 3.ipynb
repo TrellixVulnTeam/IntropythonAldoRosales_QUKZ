{
 "cells": [
  {
   "cell_type": "markdown",
   "metadata": {},
   "source": [
    "# Ejercicio - Escribir declaraciones if, else, y elif"
   ]
  },
  {
   "cell_type": "markdown",
   "metadata": {},
   "source": [
    "Asterioide se acerca a la tierra demasiado ráido, enviar advertencia?"
   ]
  },
  {
   "cell_type": "code",
   "execution_count": 11,
   "metadata": {},
   "outputs": [
    {
     "name": "stdout",
     "output_type": "stream",
     "text": [
      "No enviar advertencia\n"
     ]
    }
   ],
   "source": [
    "v_asteroide = 49\n",
    "v_normal = 25\n",
    "if v_asteroide>v_normal:\n",
    "        print (\"Enviar advertencia\")\n",
    "else: \n",
    "    # intrucción(es) a ejecutar\n",
    "        print (\"No enviar advertencia\")\n"
   ]
  },
  {
   "cell_type": "markdown",
   "metadata": {},
   "source": [
    "Asteroide entra a la atmosfera de la Tierra a una velocidad mayor o igual a 20km/s deben buscar las personas de la tierra el rayo?"
   ]
  },
  {
   "cell_type": "code",
   "execution_count": 9,
   "metadata": {},
   "outputs": [
    {
     "name": "stdout",
     "output_type": "stream",
     "text": [
      "No enviar advertencia\n"
     ]
    }
   ],
   "source": [
    "v_asteroide = 19\n",
    "v_rayo = 20\n",
    "if v_asteroide>v_rayo:\n",
    "    # intrucción(es) a ejecutar\n",
    "    print (\"Enviar advertencia de buscar asteroide en el cielo\")\n",
    "elif v_asteroide==v_rayo:\n",
    "    # intrucción(es) a ejecutar\n",
    "    print (\"Enviar advertencia de buscar asteroide en el cielo\")\n",
    "else:\n",
    "    # intrucción(es) a ejecutar\n",
    "    print (\"No enviar advertencia\")"
   ]
  },
  {
   "cell_type": "markdown",
   "metadata": {},
   "source": [
    "# Ejercicio: Uso de operadores and y or"
   ]
  },
  {
   "cell_type": "code",
   "execution_count": 10,
   "metadata": {},
   "outputs": [
    {
     "name": "stdout",
     "output_type": "stream",
     "text": [
      "Advertencia Asteroide grande puede causar daño\n"
     ]
    }
   ],
   "source": [
    "tamaño_asteroide = 25 #advertencia\n",
    "velocidad_asteroide = 26 #advertencia\n",
    "velocidad_entrada = 10 #aviso ver al cielo\n",
    "if tamaño_asteroide > 25 or velocidad_asteroide > 25:\n",
    "    print (\"Advertencia Asteroide grande puede causar daño\")\n",
    "elif velocidad_entrada >= 20:\n",
    "    print (\"Buscar advertencia en el cielo\")\n",
    "else:\n",
    "    print (\"El mundo sin ninguna amenaza\")\n",
    "    "
   ]
  },
  {
   "cell_type": "code",
   "execution_count": 11,
   "metadata": {},
   "outputs": [
    {
     "name": "stdout",
     "output_type": "stream",
     "text": [
      "Advertencia Asteroide grande puede causar daño\n"
     ]
    }
   ],
   "source": [
    "tamaño_asteroide = 30 #advertencia\n",
    "velocidad_asteroide = 25 #advertencia\n",
    "velocidad_entrada = 10 #aviso ver al cielo\n",
    "if tamaño_asteroide > 25 or velocidad_asteroide > 25:\n",
    "    print (\"Advertencia Asteroide grande puede causar daño\")\n",
    "elif velocidad_entrada >= 20:\n",
    "    print (\"Buscar advertencia en el cielo\")\n",
    "else:\n",
    "    print (\"El mundo sin ninguna amenaza\")"
   ]
  },
  {
   "cell_type": "code",
   "execution_count": 13,
   "metadata": {},
   "outputs": [
    {
     "name": "stdout",
     "output_type": "stream",
     "text": [
      "Buscar advertencia en el cielo\n"
     ]
    }
   ],
   "source": [
    "tamaño_asteroide = 24 #advertencia\n",
    "velocidad_asteroide = 24 #advertencia\n",
    "velocidad_entrada = 22 #aviso ver al cielo\n",
    "if tamaño_asteroide > 25 or velocidad_asteroide > 25:\n",
    "    print (\"Advertencia Asteroide grande puede causar daño\")\n",
    "elif velocidad_entrada >= 20:\n",
    "    print (\"Buscar advertencia en el cielo\")\n",
    "else:\n",
    "    print (\"El mundo sin ninguna amenaza\")"
   ]
  },
  {
   "cell_type": "code",
   "execution_count": 15,
   "metadata": {},
   "outputs": [
    {
     "name": "stdout",
     "output_type": "stream",
     "text": [
      "El mundo sin ninguna amenaza\n"
     ]
    }
   ],
   "source": [
    "tamaño_asteroide = 24 #advertencia\n",
    "velocidad_asteroide = 24 #advertencia\n",
    "velocidad_entrada = 16 #aviso ver al cielo\n",
    "if tamaño_asteroide > 25 or velocidad_asteroide > 25:\n",
    "    print (\"Advertencia Asteroide grande puede causar daño\")\n",
    "elif velocidad_entrada >= 20:\n",
    "    print (\"Buscar advertencia en el cielo\")\n",
    "else:\n",
    "    print (\"El mundo sin ninguna amenaza\")"
   ]
  }
 ],
 "metadata": {
  "interpreter": {
   "hash": "d12ee4cd6ed288f871bec709d81d357d9179d683a72ad3652f4324c156dcece0"
  },
  "kernelspec": {
   "display_name": "Python 3.10.2 64-bit",
   "language": "python",
   "name": "python3"
  },
  "language_info": {
   "codemirror_mode": {
    "name": "ipython",
    "version": 3
   },
   "file_extension": ".py",
   "mimetype": "text/x-python",
   "name": "python",
   "nbconvert_exporter": "python",
   "pygments_lexer": "ipython3",
   "version": "3.10.2"
  },
  "orig_nbformat": 4
 },
 "nbformat": 4,
 "nbformat_minor": 2
}
